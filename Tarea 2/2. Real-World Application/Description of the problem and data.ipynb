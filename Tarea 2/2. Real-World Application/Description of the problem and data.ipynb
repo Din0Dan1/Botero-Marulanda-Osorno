{
 "cells": [
  {
   "cell_type": "markdown",
   "metadata": {},
   "source": [
    "## Consumo energetico de una maquina \n",
    "\n",
    "Sean x,y y z variables que representan la temperatura del ambiente, la velocidad de la operacion de la maquina en revoluciones por segundo y la carga implicada en kilogramos. Definimos w como sigue: $w = $\n"
   ]
  }
 ],
 "metadata": {
  "language_info": {
   "name": "python"
  }
 },
 "nbformat": 4,
 "nbformat_minor": 2
}
