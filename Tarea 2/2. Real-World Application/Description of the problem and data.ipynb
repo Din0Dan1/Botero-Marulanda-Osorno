{
 "cells": [
  {
   "cell_type": "markdown",
   "metadata": {},
   "source": [
    "## Consumo energetico de una maquina \n",
    "Supongamos que tenemos una cinta que transporta objetos, queremos un modelo que describa el consumo energetico de esta maquina relacionando la temperatura del ambiente, la velocidad del transporte y el peso de los objetos.\n",
    "\n",
    "Sean $x,y$ y $z$ variables que representan la temperatura del ambiente, la velocidad de la operacion de la maquina en revoluciones por segundo y la carga implicada en kilogramos. Definimos w como sigue: $w = a + bx + cy + dz$ donde los elementos $a,b,c$ y $d$ representan los cambios del consumo energetico. La siguiente tabla muestra los datos recolectados por un trabajador sobre la maquina y las variables involucradas: \n",
    "\n",
    "\\begin{table}[h!]\n",
    "\\centering\n",
    "\\begin{tabular}{|c|c|c|}\n",
    "\\hline\n",
    "\\textbf{Variable} & \\textbf{Descripción} & \\textbf{Ejemplo} \\\\ \\hline\n",
    "$x$ & Temperatura ambiente & $25^\\circ$C \\\\ \\hline\n",
    "$y$ & Velocidad de operación en RPM & 1500 RPM \\\\ \\hline\n",
    "$z$ & Carga aplicada en kilogramos & 50 kg \\\\ \\hline\n",
    "$w$ & Consumo energético en kilovatios-hora (kWh) & 200 kWh \\\\ \\hline\n",
    "\\end{tabular}\n",
    "\\caption{Variables y descripción del modelo de mínimos cuadrados en 3 dimensiones.}\n",
    "\\label{tab:modelo}\n",
    "\\end{table}\n"
   ]
  }
 ],
 "metadata": {
  "language_info": {
   "name": "python"
  }
 },
 "nbformat": 4,
 "nbformat_minor": 2
}
